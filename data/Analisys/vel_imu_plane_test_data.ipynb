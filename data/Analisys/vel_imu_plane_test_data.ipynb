{
 "cells": [
  {
   "cell_type": "code",
   "execution_count": 239,
   "metadata": {},
   "outputs": [],
   "source": [
    "import pandas as pd\n",
    "import matplotlib.pyplot as plt"
   ]
  },
  {
   "cell_type": "code",
   "execution_count": 240,
   "metadata": {},
   "outputs": [],
   "source": [
    "import scipy.stats as sta\n",
    "import statistics as sts\n",
    "import scipy.ndimage as ndim\n",
    "import numpy as np"
   ]
  },
  {
   "cell_type": "code",
   "execution_count": 241,
   "metadata": {},
   "outputs": [],
   "source": [
    "filename = '/home/brendaalencar/facul/bm/bir-black-mouth-docs/data/Tests/vel_stab_plane_IMU/stability_velocity_plane_imu.csv'  \n",
    "df = pd.read_csv(filename)\n",
    "tempo= df.iloc[:,1]\n",
    "velocidade_media = 1.5/tempo"
   ]
  },
  {
   "cell_type": "code",
   "execution_count": 242,
   "metadata": {},
   "outputs": [
    {
     "data": {
      "text/plain": [
       "0     0.033434\n",
       "1     0.034300\n",
       "2     0.034231\n",
       "3     0.034602\n",
       "4     0.032753\n",
       "5     0.032808\n",
       "6     0.032366\n",
       "7     0.033223\n",
       "8     0.033632\n",
       "9     0.032269\n",
       "10    0.033529\n",
       "11    0.032475\n",
       "Name: tempo, dtype: float64"
      ]
     },
     "execution_count": 242,
     "metadata": {},
     "output_type": "execute_result"
    }
   ],
   "source": [
    "velocidade_media"
   ]
  },
  {
   "cell_type": "code",
   "execution_count": 243,
   "metadata": {},
   "outputs": [],
   "source": [
    "df.insert(2,'velocidade',velocidade_media, True)"
   ]
  },
  {
   "cell_type": "code",
   "execution_count": 244,
   "metadata": {},
   "outputs": [
    {
     "name": "stdout",
     "output_type": "stream",
     "text": [
      "['estabilidade', 'tempo', 'velocidade', 'roll_max', 'roll_min', 'roll_oscilation', 'pitch_max', 'pitch_min', 'pitch_oscilation']\n"
     ]
    }
   ],
   "source": [
    "print(df.columns.tolist())                                         "
   ]
  },
  {
   "cell_type": "code",
   "execution_count": 245,
   "metadata": {},
   "outputs": [
    {
     "data": {
      "text/html": [
       "<div>\n",
       "<style scoped>\n",
       "    .dataframe tbody tr th:only-of-type {\n",
       "        vertical-align: middle;\n",
       "    }\n",
       "\n",
       "    .dataframe tbody tr th {\n",
       "        vertical-align: top;\n",
       "    }\n",
       "\n",
       "    .dataframe thead th {\n",
       "        text-align: right;\n",
       "    }\n",
       "</style>\n",
       "<table border=\"1\" class=\"dataframe\">\n",
       "  <thead>\n",
       "    <tr style=\"text-align: right;\">\n",
       "      <th></th>\n",
       "      <th>estabilidade</th>\n",
       "      <th>tempo</th>\n",
       "      <th>velocidade</th>\n",
       "      <th>roll_max</th>\n",
       "      <th>roll_min</th>\n",
       "      <th>roll_oscilation</th>\n",
       "      <th>pitch_max</th>\n",
       "      <th>pitch_min</th>\n",
       "      <th>pitch_oscilation</th>\n",
       "    </tr>\n",
       "  </thead>\n",
       "  <tbody>\n",
       "    <tr>\n",
       "      <th>0</th>\n",
       "      <td>False</td>\n",
       "      <td>44.865163</td>\n",
       "      <td>0.033434</td>\n",
       "      <td>3.626074</td>\n",
       "      <td>-2.627311</td>\n",
       "      <td>6.253385</td>\n",
       "      <td>2.850613</td>\n",
       "      <td>-2.784902</td>\n",
       "      <td>5.635514</td>\n",
       "    </tr>\n",
       "    <tr>\n",
       "      <th>1</th>\n",
       "      <td>False</td>\n",
       "      <td>43.731822</td>\n",
       "      <td>0.034300</td>\n",
       "      <td>3.477813</td>\n",
       "      <td>-4.443612</td>\n",
       "      <td>7.921425</td>\n",
       "      <td>2.428159</td>\n",
       "      <td>-4.029955</td>\n",
       "      <td>6.458114</td>\n",
       "    </tr>\n",
       "    <tr>\n",
       "      <th>2</th>\n",
       "      <td>False</td>\n",
       "      <td>43.819761</td>\n",
       "      <td>0.034231</td>\n",
       "      <td>6.174569</td>\n",
       "      <td>-4.880062</td>\n",
       "      <td>11.054630</td>\n",
       "      <td>5.469006</td>\n",
       "      <td>-4.359051</td>\n",
       "      <td>9.828057</td>\n",
       "    </tr>\n",
       "    <tr>\n",
       "      <th>3</th>\n",
       "      <td>False</td>\n",
       "      <td>43.350480</td>\n",
       "      <td>0.034602</td>\n",
       "      <td>4.657300</td>\n",
       "      <td>-4.163298</td>\n",
       "      <td>8.820598</td>\n",
       "      <td>4.489015</td>\n",
       "      <td>-3.484709</td>\n",
       "      <td>7.973724</td>\n",
       "    </tr>\n",
       "    <tr>\n",
       "      <th>4</th>\n",
       "      <td>False</td>\n",
       "      <td>45.796669</td>\n",
       "      <td>0.032753</td>\n",
       "      <td>3.225036</td>\n",
       "      <td>-3.616543</td>\n",
       "      <td>6.841579</td>\n",
       "      <td>3.301129</td>\n",
       "      <td>-2.618959</td>\n",
       "      <td>5.920088</td>\n",
       "    </tr>\n",
       "  </tbody>\n",
       "</table>\n",
       "</div>"
      ],
      "text/plain": [
       "   estabilidade      tempo  velocidade  roll_max  roll_min  roll_oscilation  \\\n",
       "0         False  44.865163    0.033434  3.626074 -2.627311         6.253385   \n",
       "1         False  43.731822    0.034300  3.477813 -4.443612         7.921425   \n",
       "2         False  43.819761    0.034231  6.174569 -4.880062        11.054630   \n",
       "3         False  43.350480    0.034602  4.657300 -4.163298         8.820598   \n",
       "4         False  45.796669    0.032753  3.225036 -3.616543         6.841579   \n",
       "\n",
       "   pitch_max  pitch_min  pitch_oscilation  \n",
       "0   2.850613  -2.784902          5.635514  \n",
       "1   2.428159  -4.029955          6.458114  \n",
       "2   5.469006  -4.359051          9.828057  \n",
       "3   4.489015  -3.484709          7.973724  \n",
       "4   3.301129  -2.618959          5.920088  "
      ]
     },
     "execution_count": 245,
     "metadata": {},
     "output_type": "execute_result"
    }
   ],
   "source": [
    "df.head()"
   ]
  },
  {
   "cell_type": "code",
   "execution_count": 246,
   "metadata": {},
   "outputs": [
    {
     "data": {
      "text/plain": [
       "estabilidade         0.000000\n",
       "tempo               45.065695\n",
       "velocidade           0.033302\n",
       "roll_max             4.215806\n",
       "roll_min            -4.527013\n",
       "roll_oscilation      8.742818\n",
       "pitch_max            4.256276\n",
       "pitch_min           -4.039287\n",
       "pitch_oscilation     8.295563\n",
       "dtype: float64"
      ]
     },
     "execution_count": 246,
     "metadata": {},
     "output_type": "execute_result"
    }
   ],
   "source": [
    "df.mean()"
   ]
  },
  {
   "cell_type": "markdown",
   "metadata": {},
   "source": [
    "## Distribuição normal\n",
    "### Observações\n",
    "- Distribuição normal é uma função de probabilidade usada em estatísticas que informa sobre como os valores dos dados são distribuídos. \n",
    "\n",
    "- Quanto maior a variancia,  mais baixo o topo da distribuição fica\n",
    "\n",
    "- É necessário um grande número de testes\n",
    "\n",
    "\n"
   ]
  },
  {
   "cell_type": "code",
   "execution_count": 247,
   "metadata": {},
   "outputs": [
    {
     "data": {
      "text/plain": [
       "1.138108734755293"
      ]
     },
     "execution_count": 247,
     "metadata": {},
     "output_type": "execute_result"
    }
   ],
   "source": [
    "# Variancia \n",
    "sts.variance(tempo)"
   ]
  },
  {
   "cell_type": "code",
   "execution_count": 248,
   "metadata": {},
   "outputs": [
    {
     "data": {
      "text/plain": [
       "6.276564928326062e-07"
      ]
     },
     "execution_count": 248,
     "metadata": {},
     "output_type": "execute_result"
    }
   ],
   "source": [
    "sts.variance(velocidade_media)"
   ]
  },
  {
   "cell_type": "code",
   "execution_count": 249,
   "metadata": {},
   "outputs": [
    {
     "data": {
      "text/plain": [
       "array([0.00000000e+00, 1.06682179e+00, 7.92247747e-04, 8.79658889e-01,\n",
       "       1.47839707e+00, 2.14591763e+00, 1.20382133e+00, 1.32182234e+00,\n",
       "       2.38651055e+00])"
      ]
     },
     "execution_count": 249,
     "metadata": {},
     "output_type": "execute_result"
    }
   ],
   "source": [
    "# standart deviation (grau de dispersão de um conjunto de dados)\n",
    "# O desvio padrão é uma medida que expressa o grau de dispersão de um conjunto de dados. Ou seja, o desvio padrão indica o quanto um conjunto de dados é uniforme. Quanto mais próximo de 0 for o desvio padrão, mais homogêneo são os dados.\n",
    "sta.tstd(df)\n"
   ]
  },
  {
   "cell_type": "code",
   "execution_count": 250,
   "metadata": {},
   "outputs": [
    {
     "ename": "TypeError",
     "evalue": "tstd() missing 1 required positional argument: 'a'",
     "output_type": "error",
     "traceback": [
      "\u001b[0;31m---------------------------------------------------------------------------\u001b[0m",
      "\u001b[0;31mTypeError\u001b[0m                                 Traceback (most recent call last)",
      "Cell \u001b[0;32mIn [250], line 1\u001b[0m\n\u001b[0;32m----> 1\u001b[0m sta\u001b[39m.\u001b[39;49mtstd()\n",
      "\u001b[0;31mTypeError\u001b[0m: tstd() missing 1 required positional argument: 'a'"
     ]
    }
   ],
   "source": [
    "sta.tstd()\n"
   ]
  },
  {
   "cell_type": "code",
   "execution_count": null,
   "metadata": {},
   "outputs": [
    {
     "data": {
      "text/plain": [
       "array([[<matplotlib.axes._subplots.AxesSubplot object at 0x7f3506f31340>]],\n",
       "      dtype=object)"
      ]
     },
     "execution_count": 175,
     "metadata": {},
     "output_type": "execute_result"
    },
    {
     "data": {
      "image/png": "[encoded data removed]",
      "text/plain": [
       "<Figure size 640x480 with 1 Axes>"
      ]
     },
     "metadata": {},
     "output_type": "display_data"
    }
   ],
   "source": [
    "df.hist(column='tempo')\n",
    "# plt.xlim((0.45, 0.6)2"
   ]
  },
  {
   "cell_type": "code",
   "execution_count": null,
   "metadata": {},
   "outputs": [
    {
     "data": {
      "image/png": "[encoded data removed]",
      "text/plain": [
       "<Figure size 640x480 with 1 Axes>"
      ]
     },
     "metadata": {},
     "output_type": "display_data"
    }
   ],
   "source": [
    "ax = tempo.plot.kde()"
   ]
  },
  {
   "cell_type": "code",
   "execution_count": null,
   "metadata": {},
   "outputs": [
    {
     "data": {
      "text/plain": [
       "array([0.28160316])"
      ]
     },
     "execution_count": 142,
     "metadata": {},
     "output_type": "execute_result"
    }
   ],
   "source": [
    "density = sta.gaussian_kde(tempo)\n",
    "## probabilidade de estar na média\n",
    "density(df.iloc[:,1].mean())"
   ]
  },
  {
   "cell_type": "markdown",
   "metadata": {},
   "source": [
    "\n",
    "A fim de avaliar se o controle de estabilidade aqui proposto contribuiu de fato na estabilidade da caminhada, utilizaremos o teste T-Student de uma amostra. Então, foi proposto que a hipotése nula é que a oscilação de rotação do corpo não foi melhorada com o uso do controle de estabilidade, considerando testes entre os mesmos terrenos."
   ]
  },
  {
   "cell_type": "code",
   "execution_count": 254,
   "metadata": {},
   "outputs": [
    {
     "name": "stdout",
     "output_type": "stream",
     "text": [
      "-73.01227722483497\n",
      "3.955001882078621e-16\n"
     ]
    }
   ],
   "source": [
    "results, pvalue = sta.ttest_1samp(df['velocidade'], 0.05, alternative='two-sided')\n",
    "print(results)\n",
    "print(pvalue)"
   ]
  },
  {
   "cell_type": "code",
   "execution_count": 255,
   "metadata": {},
   "outputs": [
    {
     "name": "stdout",
     "output_type": "stream",
     "text": [
      "48.92016525872323\n",
      "3.195715045300835e-14\n"
     ]
    }
   ],
   "source": [
    "results, pvalue = sta.ttest_1samp(df['tempo'],30.0, alternative='two-sided')\n",
    "print(results)\n",
    "print(pvalue)"
   ]
  },
  {
   "cell_type": "code",
   "execution_count": 252,
   "metadata": {},
   "outputs": [
    {
     "name": "stdout",
     "output_type": "stream",
     "text": [
      "-6.131802624872009\n",
      "7.395635803322588e-05\n"
     ]
    }
   ],
   "source": [
    "results, pvalue = sta.ttest_1samp(df['roll_oscilation'], 12.541305, alternative='two-sided')\n",
    "print(results)\n",
    "print(pvalue)"
   ]
  },
  {
   "cell_type": "code",
   "execution_count": 226,
   "metadata": {},
   "outputs": [
    {
     "name": "stdout",
     "output_type": "stream",
     "text": [
      "-10.007155690707888\n",
      "7.340333603110941e-07\n"
     ]
    }
   ],
   "source": [
    "results, pvalue = sta.ttest_1samp(df['pitch_oscilation'], 15.189755, alternative='two-sided')\n",
    "print(results)\n",
    "print(pvalue)"
   ]
  }
 ],
 "metadata": {
  "kernelspec": {
   "display_name": "Python 3.10.6 64-bit",
   "language": "python",
   "name": "python3"
  },
  "language_info": {
   "codemirror_mode": {
    "name": "ipython",
    "version": 3
   },
   "file_extension": ".py",
   "mimetype": "text/x-python",
   "name": "python",
   "nbconvert_exporter": "python",
   "pygments_lexer": "ipython3",
   "version": "3.8.10"
  },
  "orig_nbformat": 4,
  "vscode": {
   "interpreter": {
    "hash": "916dbcbb3f70747c44a77c7bcd40155683ae19c65e1c03b4aa3499c5328201f1"
   }
  }
 },
 "nbformat": 4,
 "nbformat_minor": 2
}
