{
 "cells": [
  {
   "cell_type": "code",
   "execution_count": 62,
   "metadata": {},
   "outputs": [],
   "source": [
    "import pandas as pd\n",
    "import matplotlib.pyplot as plt"
   ]
  },
  {
   "cell_type": "code",
   "execution_count": 63,
   "metadata": {},
   "outputs": [],
   "source": [
    "import pandas as pd\n",
    "import matplotlib.pyplot as plt"
   ]
  },
  {
   "cell_type": "code",
   "execution_count": 64,
   "metadata": {},
   "outputs": [],
   "source": [
    "import scipy.stats as sta\n",
    "import statistics as sts\n",
    "import scipy.ndimage as ndim\n",
    "import numpy as np"
   ]
  },
  {
   "cell_type": "code",
   "execution_count": 65,
   "metadata": {},
   "outputs": [],
   "source": [
    "filename = '/home/brendaalencar/facul/bm/bir-black-mouth-docs/data/Tests/vel_stab_plane_NO_IMU/stability_velocity_plane.csv'  \n",
    "df = pd.read_csv(filename)\n",
    "tempo= df.iloc[:,1]\n",
    "velocidade_media = 1.5/tempo"
   ]
  },
  {
   "cell_type": "code",
   "execution_count": 66,
   "metadata": {},
   "outputs": [
    {
     "data": {
      "text/plain": [
       "0     0.029434\n",
       "1     0.028905\n",
       "2     0.031979\n",
       "3     0.029533\n",
       "4     0.030811\n",
       "5     0.029802\n",
       "6     0.028983\n",
       "7     0.027861\n",
       "8     0.028789\n",
       "9     0.027715\n",
       "10    0.027403\n",
       "Name: tempo, dtype: float64"
      ]
     },
     "execution_count": 66,
     "metadata": {},
     "output_type": "execute_result"
    }
   ],
   "source": [
    "velocidade_media"
   ]
  },
  {
   "cell_type": "code",
   "execution_count": 67,
   "metadata": {},
   "outputs": [],
   "source": [
    "df.insert(2,'velocidade',velocidade_media, True)"
   ]
  },
  {
   "cell_type": "code",
   "execution_count": 68,
   "metadata": {},
   "outputs": [
    {
     "name": "stdout",
     "output_type": "stream",
     "text": [
      "['estabilidade', 'tempo', 'velocidade', 'roll_max', 'roll_min', 'roll_oscilation', 'pitch_max', 'pitch_min', 'pitch_oscilation']\n"
     ]
    }
   ],
   "source": [
    "print(df.columns.tolist())                                         "
   ]
  },
  {
   "cell_type": "code",
   "execution_count": 69,
   "metadata": {},
   "outputs": [
    {
     "data": {
      "text/html": [
       "<div>\n",
       "<style scoped>\n",
       "    .dataframe tbody tr th:only-of-type {\n",
       "        vertical-align: middle;\n",
       "    }\n",
       "\n",
       "    .dataframe tbody tr th {\n",
       "        vertical-align: top;\n",
       "    }\n",
       "\n",
       "    .dataframe thead th {\n",
       "        text-align: right;\n",
       "    }\n",
       "</style>\n",
       "<table border=\"1\" class=\"dataframe\">\n",
       "  <thead>\n",
       "    <tr style=\"text-align: right;\">\n",
       "      <th></th>\n",
       "      <th>estabilidade</th>\n",
       "      <th>tempo</th>\n",
       "      <th>velocidade</th>\n",
       "      <th>roll_max</th>\n",
       "      <th>roll_min</th>\n",
       "      <th>roll_oscilation</th>\n",
       "      <th>pitch_max</th>\n",
       "      <th>pitch_min</th>\n",
       "      <th>pitch_oscilation</th>\n",
       "    </tr>\n",
       "  </thead>\n",
       "  <tbody>\n",
       "    <tr>\n",
       "      <th>0</th>\n",
       "      <td>False</td>\n",
       "      <td>50.961711</td>\n",
       "      <td>0.029434</td>\n",
       "      <td>8.097275</td>\n",
       "      <td>-7.354716</td>\n",
       "      <td>15.451991</td>\n",
       "      <td>6.025953</td>\n",
       "      <td>-8.135932</td>\n",
       "      <td>14.161885</td>\n",
       "    </tr>\n",
       "    <tr>\n",
       "      <th>1</th>\n",
       "      <td>False</td>\n",
       "      <td>51.894460</td>\n",
       "      <td>0.028905</td>\n",
       "      <td>5.778656</td>\n",
       "      <td>-5.004547</td>\n",
       "      <td>10.783202</td>\n",
       "      <td>4.397139</td>\n",
       "      <td>-6.966427</td>\n",
       "      <td>11.363566</td>\n",
       "    </tr>\n",
       "    <tr>\n",
       "      <th>2</th>\n",
       "      <td>False</td>\n",
       "      <td>46.905197</td>\n",
       "      <td>0.031979</td>\n",
       "      <td>5.965087</td>\n",
       "      <td>-2.688283</td>\n",
       "      <td>8.653370</td>\n",
       "      <td>4.047138</td>\n",
       "      <td>-6.306031</td>\n",
       "      <td>10.353169</td>\n",
       "    </tr>\n",
       "    <tr>\n",
       "      <th>3</th>\n",
       "      <td>False</td>\n",
       "      <td>50.791203</td>\n",
       "      <td>0.029533</td>\n",
       "      <td>7.816277</td>\n",
       "      <td>-7.422409</td>\n",
       "      <td>15.238686</td>\n",
       "      <td>5.277643</td>\n",
       "      <td>-9.030908</td>\n",
       "      <td>14.308551</td>\n",
       "    </tr>\n",
       "    <tr>\n",
       "      <th>4</th>\n",
       "      <td>False</td>\n",
       "      <td>48.684558</td>\n",
       "      <td>0.030811</td>\n",
       "      <td>5.992337</td>\n",
       "      <td>-4.222726</td>\n",
       "      <td>10.215063</td>\n",
       "      <td>3.493645</td>\n",
       "      <td>-5.605697</td>\n",
       "      <td>9.099343</td>\n",
       "    </tr>\n",
       "  </tbody>\n",
       "</table>\n",
       "</div>"
      ],
      "text/plain": [
       "   estabilidade      tempo  velocidade  roll_max  roll_min  roll_oscilation  \\\n",
       "0         False  50.961711    0.029434  8.097275 -7.354716        15.451991   \n",
       "1         False  51.894460    0.028905  5.778656 -5.004547        10.783202   \n",
       "2         False  46.905197    0.031979  5.965087 -2.688283         8.653370   \n",
       "3         False  50.791203    0.029533  7.816277 -7.422409        15.238686   \n",
       "4         False  48.684558    0.030811  5.992337 -4.222726        10.215063   \n",
       "\n",
       "   pitch_max  pitch_min  pitch_oscilation  \n",
       "0   6.025953  -8.135932         14.161885  \n",
       "1   4.397139  -6.966427         11.363566  \n",
       "2   4.047138  -6.306031         10.353169  \n",
       "3   5.277643  -9.030908         14.308551  \n",
       "4   3.493645  -5.605697          9.099343  "
      ]
     },
     "execution_count": 69,
     "metadata": {},
     "output_type": "execute_result"
    }
   ],
   "source": [
    "df.head()"
   ]
  },
  {
   "cell_type": "code",
   "execution_count": 70,
   "metadata": {},
   "outputs": [
    {
     "data": {
      "text/plain": [
       "estabilidade         0.000000\n",
       "tempo               51.465868\n",
       "velocidade           0.029201\n",
       "roll_max             7.169971\n",
       "roll_min            -5.371334\n",
       "roll_oscilation     12.541305\n",
       "pitch_max            4.398284\n",
       "pitch_min           -7.060289\n",
       "pitch_oscilation    11.458574\n",
       "dtype: float64"
      ]
     },
     "execution_count": 70,
     "metadata": {},
     "output_type": "execute_result"
    }
   ],
   "source": [
    "df.mean()"
   ]
  },
  {
   "cell_type": "markdown",
   "metadata": {},
   "source": [
    "## Distribuição normal\n",
    "### Observações\n",
    "- Distribuição normal é uma função de probabilidade usada em estatísticas que informa sobre como os valores dos dados são distribuídos. \n",
    "\n",
    "- Quanto maior a variancia,  mais baixo o topo da distribuição fica\n",
    "\n",
    "- É necessário um grande número de testes\n",
    "\n",
    "\n"
   ]
  },
  {
   "cell_type": "code",
   "execution_count": 71,
   "metadata": {},
   "outputs": [
    {
     "data": {
      "text/plain": [
       "5.459955895104655"
      ]
     },
     "execution_count": 71,
     "metadata": {},
     "output_type": "execute_result"
    }
   ],
   "source": [
    "# Variancia \n",
    "sts.variance(tempo)"
   ]
  },
  {
   "cell_type": "code",
   "execution_count": 72,
   "metadata": {},
   "outputs": [
    {
     "data": {
      "text/plain": [
       "1.837704971862457e-06"
      ]
     },
     "execution_count": 72,
     "metadata": {},
     "output_type": "execute_result"
    }
   ],
   "source": [
    "sts.variance(velocidade_media)"
   ]
  },
  {
   "cell_type": "code",
   "execution_count": 73,
   "metadata": {},
   "outputs": [
    {
     "data": {
      "text/plain": [
       "array([0.00000000e+00, 2.33665485e+00, 1.35561977e-03, 1.29030961e+00,\n",
       "       1.43236053e+00, 2.41686416e+00, 9.33235943e-01, 1.12972008e+00,\n",
       "       1.82621828e+00])"
      ]
     },
     "execution_count": 73,
     "metadata": {},
     "output_type": "execute_result"
    }
   ],
   "source": [
    "# standart deviation (grau de dispersão de um conjunto de dados)\n",
    "# O desvio padrão é uma medida que expressa o grau de dispersão de um conjunto de dados. Ou seja, o desvio padrão indica o quanto um conjunto de dados é uniforme. Quanto mais próximo de 0 for o desvio padrão, mais homogêneo são os dados.\n",
    "sta.tstd(df)\n"
   ]
  },
  {
   "cell_type": "code",
   "execution_count": 74,
   "metadata": {},
   "outputs": [
    {
     "ename": "TypeError",
     "evalue": "tstd() missing 1 required positional argument: 'a'",
     "output_type": "error",
     "traceback": [
      "\u001b[0;31m---------------------------------------------------------------------------\u001b[0m",
      "\u001b[0;31mTypeError\u001b[0m                                 Traceback (most recent call last)",
      "Cell \u001b[0;32mIn [74], line 1\u001b[0m\n\u001b[0;32m----> 1\u001b[0m sta\u001b[39m.\u001b[39;49mtstd()\n",
      "\u001b[0;31mTypeError\u001b[0m: tstd() missing 1 required positional argument: 'a'"
     ]
    }
   ],
   "source": [
    "sta.tstd()\n"
   ]
  },
  {
   "cell_type": "code",
   "execution_count": null,
   "metadata": {},
   "outputs": [
    {
     "data": {
      "text/plain": [
       "array([[<matplotlib.axes._subplots.AxesSubplot object at 0x7f3506f31340>]],\n",
       "      dtype=object)"
      ]
     },
     "metadata": {},
     "output_type": "display_data"
    },
    {
     "data": {
      "image/png": "[encoded data removed]",
      "text/plain": [
       "<Figure size 640x480 with 1 Axes>"
      ]
     },
     "metadata": {},
     "output_type": "display_data"
    }
   ],
   "source": [
    "df.hist(column='tempo')\n",
    "# plt.xlim((0.45, 0.6)2"
   ]
  },
  {
   "cell_type": "code",
   "execution_count": null,
   "metadata": {},
   "outputs": [
    {
     "data": {
      "image/png": "[encoded data removed]",
      "text/plain": [
       "<Figure size 640x480 with 1 Axes>"
      ]
     },
     "metadata": {},
     "output_type": "display_data"
    }
   ],
   "source": [
    "ax = tempo.plot.kde()"
   ]
  },
  {
   "cell_type": "code",
   "execution_count": null,
   "metadata": {},
   "outputs": [
    {
     "data": {
      "text/plain": [
       "array([0.28160316])"
      ]
     },
     "metadata": {},
     "output_type": "display_data"
    }
   ],
   "source": [
    "density = sta.gaussian_kde(tempo)\n",
    "## probabilidade de estar na média\n",
    "density(df.iloc[:,1].mean())"
   ]
  },
  {
   "cell_type": "code",
   "execution_count": null,
   "metadata": {},
   "outputs": [],
   "source": [
    "import scipy.stats as sta\n",
    "import statistics as sts\n",
    "import scipy.ndimage as ndim\n",
    "import numpy as np"
   ]
  },
  {
   "cell_type": "code",
   "execution_count": null,
   "metadata": {},
   "outputs": [],
   "source": [
    "filename = '/home/brendaalencar/facul/bm/bir-black-mouth-docs/data/Tests/vel_stab_plane_NO_IMU/stability_velocity_plane.csv'  \n",
    "df = pd.read_csv(filename)"
   ]
  },
  {
   "cell_type": "code",
   "execution_count": null,
   "metadata": {},
   "outputs": [
    {
     "name": "stdout",
     "output_type": "stream",
     "text": [
      "['estabilidade', 'tempo', 'roll_max', 'roll_min', 'roll_oscilation', 'pitch_max', 'pitch_min', 'pitch_oscilation']\n"
     ]
    }
   ],
   "source": [
    "print(df.columns.tolist())                                         "
   ]
  },
  {
   "cell_type": "code",
   "execution_count": null,
   "metadata": {},
   "outputs": [
    {
     "data": {
      "text/html": [
       "<div>\n",
       "<style scoped>\n",
       "    .dataframe tbody tr th:only-of-type {\n",
       "        vertical-align: middle;\n",
       "    }\n",
       "\n",
       "    .dataframe tbody tr th {\n",
       "        vertical-align: top;\n",
       "    }\n",
       "\n",
       "    .dataframe thead th {\n",
       "        text-align: right;\n",
       "    }\n",
       "</style>\n",
       "<table border=\"1\" class=\"dataframe\">\n",
       "  <thead>\n",
       "    <tr style=\"text-align: right;\">\n",
       "      <th></th>\n",
       "      <th>estabilidade</th>\n",
       "      <th>tempo</th>\n",
       "      <th>roll_max</th>\n",
       "      <th>roll_min</th>\n",
       "      <th>roll_oscilation</th>\n",
       "      <th>pitch_max</th>\n",
       "      <th>pitch_min</th>\n",
       "      <th>pitch_oscilation</th>\n",
       "    </tr>\n",
       "  </thead>\n",
       "  <tbody>\n",
       "    <tr>\n",
       "      <th>0</th>\n",
       "      <td>False</td>\n",
       "      <td>50.961711</td>\n",
       "      <td>8.097275</td>\n",
       "      <td>-7.354716</td>\n",
       "      <td>15.451991</td>\n",
       "      <td>6.025953</td>\n",
       "      <td>-8.135932</td>\n",
       "      <td>14.161885</td>\n",
       "    </tr>\n",
       "    <tr>\n",
       "      <th>1</th>\n",
       "      <td>False</td>\n",
       "      <td>51.894460</td>\n",
       "      <td>5.778656</td>\n",
       "      <td>-5.004547</td>\n",
       "      <td>10.783202</td>\n",
       "      <td>4.397139</td>\n",
       "      <td>-6.966427</td>\n",
       "      <td>11.363566</td>\n",
       "    </tr>\n",
       "    <tr>\n",
       "      <th>2</th>\n",
       "      <td>False</td>\n",
       "      <td>46.905197</td>\n",
       "      <td>5.965087</td>\n",
       "      <td>-2.688283</td>\n",
       "      <td>8.653370</td>\n",
       "      <td>4.047138</td>\n",
       "      <td>-6.306031</td>\n",
       "      <td>10.353169</td>\n",
       "    </tr>\n",
       "    <tr>\n",
       "      <th>3</th>\n",
       "      <td>False</td>\n",
       "      <td>50.791203</td>\n",
       "      <td>7.816277</td>\n",
       "      <td>-7.422409</td>\n",
       "      <td>15.238686</td>\n",
       "      <td>5.277643</td>\n",
       "      <td>-9.030908</td>\n",
       "      <td>14.308551</td>\n",
       "    </tr>\n",
       "    <tr>\n",
       "      <th>4</th>\n",
       "      <td>False</td>\n",
       "      <td>48.684558</td>\n",
       "      <td>5.992337</td>\n",
       "      <td>-4.222726</td>\n",
       "      <td>10.215063</td>\n",
       "      <td>3.493645</td>\n",
       "      <td>-5.605697</td>\n",
       "      <td>9.099343</td>\n",
       "    </tr>\n",
       "  </tbody>\n",
       "</table>\n",
       "</div>"
      ],
      "text/plain": [
       "   estabilidade      tempo  roll_max  roll_min  roll_oscilation  pitch_max  \\\n",
       "0         False  50.961711  8.097275 -7.354716        15.451991   6.025953   \n",
       "1         False  51.894460  5.778656 -5.004547        10.783202   4.397139   \n",
       "2         False  46.905197  5.965087 -2.688283         8.653370   4.047138   \n",
       "3         False  50.791203  7.816277 -7.422409        15.238686   5.277643   \n",
       "4         False  48.684558  5.992337 -4.222726        10.215063   3.493645   \n",
       "\n",
       "   pitch_min  pitch_oscilation  \n",
       "0  -8.135932         14.161885  \n",
       "1  -6.966427         11.363566  \n",
       "2  -6.306031         10.353169  \n",
       "3  -9.030908         14.308551  \n",
       "4  -5.605697          9.099343  "
      ]
     },
     "execution_count": 15,
     "metadata": {},
     "output_type": "execute_result"
    }
   ],
   "source": [
    "df.head()"
   ]
  },
  {
   "cell_type": "code",
   "execution_count": null,
   "metadata": {},
   "outputs": [
    {
     "data": {
      "text/plain": [
       "estabilidade         0.000000\n",
       "tempo               51.465868\n",
       "velocidade           0.029201\n",
       "roll_max             7.169971\n",
       "roll_min            -5.371334\n",
       "roll_oscilation     12.541305\n",
       "pitch_max            4.398284\n",
       "pitch_min           -7.060289\n",
       "pitch_oscilation    11.458574\n",
       "dtype: float64"
      ]
     },
     "execution_count": 59,
     "metadata": {},
     "output_type": "execute_result"
    }
   ],
   "source": [
    "df.mean()"
   ]
  },
  {
   "cell_type": "markdown",
   "metadata": {},
   "source": [
    "## Distribuição normal\n",
    "### Observações\n",
    "- Distribuição normal é uma função de probabilidade usada em estatísticas que informa sobre como os valores dos dados são distribuídos. \n",
    "\n",
    "- Quanto maior a variancia,  mais baixo o topo da distribuição fica\n",
    "\n",
    "- É necessário um grande número de testes\n",
    "\n",
    "\n"
   ]
  },
  {
   "cell_type": "code",
   "execution_count": null,
   "metadata": {},
   "outputs": [],
   "source": [
    "#analisando o tempo\n",
    "tempo= df.iloc[:,1]"
   ]
  },
  {
   "cell_type": "code",
   "execution_count": null,
   "metadata": {},
   "outputs": [
    {
     "data": {
      "text/plain": [
       "5.459955895104655"
      ]
     },
     "execution_count": 19,
     "metadata": {},
     "output_type": "execute_result"
    }
   ],
   "source": [
    "# Variancia \n",
    "sts.variance(tempo)"
   ]
  },
  {
   "cell_type": "code",
   "execution_count": null,
   "metadata": {},
   "outputs": [
    {
     "data": {
      "text/plain": [
       "51.46586793119257"
      ]
     },
     "execution_count": 60,
     "metadata": {},
     "output_type": "execute_result"
    }
   ],
   "source": [
    "tempo.mean()"
   ]
  },
  {
   "cell_type": "code",
   "execution_count": 75,
   "metadata": {},
   "outputs": [
    {
     "data": {
      "text/plain": [
       "array([0.00000000e+00, 2.33665485e+00, 1.35561977e-03, 1.29030961e+00,\n",
       "       1.43236053e+00, 2.41686416e+00, 9.33235943e-01, 1.12972008e+00,\n",
       "       1.82621828e+00])"
      ]
     },
     "execution_count": 75,
     "metadata": {},
     "output_type": "execute_result"
    }
   ],
   "source": [
    "# standart deviation (grau de dispersão de um conjunto de dados)\n",
    "# O desvio padrão é uma medida que expressa o grau de dispersão de um conjunto de dados. Ou seja, o desvio padrão indica o quanto um conjunto de dados é uniforme. Quanto mais próximo de 0 for o desvio padrão, mais homogêneo são os dados.\n",
    "sta.tstd(df)\n"
   ]
  },
  {
   "cell_type": "code",
   "execution_count": 22,
   "metadata": {},
   "outputs": [
    {
     "data": {
      "text/plain": [
       "array([[<matplotlib.axes._subplots.AxesSubplot object at 0x7feeb1169a60>]],\n",
       "      dtype=object)"
      ]
     },
     "execution_count": 22,
     "metadata": {},
     "output_type": "execute_result"
    },
    {
     "data": {
      "image/png": "[encoded data removed]",
      "text/plain": [
       "<Figure size 640x480 with 1 Axes>"
      ]
     },
     "metadata": {},
     "output_type": "display_data"
    }
   ],
   "source": [
    "df.hist(column='tempo')\n",
    "# plt.xlim((0.45, 0.6)2"
   ]
  },
  {
   "cell_type": "code",
   "execution_count": 23,
   "metadata": {},
   "outputs": [
    {
     "data": {
      "image/png": "[encoded data removed]",
      "text/plain": [
       "<Figure size 640x480 with 1 Axes>"
      ]
     },
     "metadata": {},
     "output_type": "display_data"
    }
   ],
   "source": [
    "ax = tempo.plot.kde()"
   ]
  },
  {
   "cell_type": "code",
   "execution_count": null,
   "metadata": {},
   "outputs": [],
   "source": [
    "import scipy.stats as sta\n",
    "import statistics as sts\n",
    "import scipy.ndimage as ndim\n",
    "import numpy as np"
   ]
  },
  {
   "cell_type": "code",
   "execution_count": 24,
   "metadata": {},
   "outputs": [
    {
     "data": {
      "text/plain": [
       "array([0.15308253])"
      ]
     },
     "execution_count": 24,
     "metadata": {},
     "output_type": "execute_result"
    }
   ],
   "source": [
    "density = sta.gaussian_kde(tempo)\n",
    "## probabilidade de estar na média\n",
    "density(df.iloc[:,1].mean())"
   ]
  }
 ],
 "metadata": {
  "kernelspec": {
   "display_name": "Python 3.10.6 64-bit",
   "language": "python",
   "name": "python3"
  },
  "language_info": {
   "codemirror_mode": {
    "name": "ipython",
    "version": 3
   },
   "file_extension": ".py",
   "mimetype": "text/x-python",
   "name": "python",
   "nbconvert_exporter": "python",
   "pygments_lexer": "ipython3",
   "version": "3.8.10"
  },
  "orig_nbformat": 4,
  "vscode": {
   "interpreter": {
    "hash": "916dbcbb3f70747c44a77c7bcd40155683ae19c65e1c03b4aa3499c5328201f1"
   }
  }
 },
 "nbformat": 4,
 "nbformat_minor": 2
}
