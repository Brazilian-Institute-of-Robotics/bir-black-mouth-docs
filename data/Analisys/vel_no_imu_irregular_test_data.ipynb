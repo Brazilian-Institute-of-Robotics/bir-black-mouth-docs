{
 "cells": [
  {
   "cell_type": "code",
   "execution_count": 8,
   "metadata": {},
   "outputs": [],
   "source": [
    "import pandas as pd\n",
    "import matplotlib.pyplot as plt"
   ]
  },
  {
   "cell_type": "code",
   "execution_count": 9,
   "metadata": {},
   "outputs": [],
   "source": [
    "import scipy.stats as sta\n",
    "import statistics as sts\n",
    "import scipy.ndimage as ndim\n",
    "import numpy as np"
   ]
  },
  {
   "cell_type": "code",
   "execution_count": 10,
   "metadata": {},
   "outputs": [],
   "source": [
    "filename = '/home/brendaalencar/facul/bm/bir-black-mouth-docs/data/Tests/vel_stab_irregular_NO_IMU/stability_velocity.csv'  \n",
    "df = pd.read_csv(filename)\n",
    "tempo= df.iloc[:,1]\n",
    "velocidade_media = 1.5/tempo"
   ]
  },
  {
   "cell_type": "code",
   "execution_count": 11,
   "metadata": {},
   "outputs": [
    {
     "data": {
      "text/plain": [
       "0    0.026368\n",
       "1    0.029568\n",
       "2    0.030646\n",
       "3    0.030457\n",
       "4    0.031287\n",
       "5    0.030998\n",
       "6    0.032644\n",
       "7    0.027000\n",
       "8    0.030418\n",
       "9    0.028346\n",
       "Name: tempo, dtype: float64"
      ]
     },
     "execution_count": 11,
     "metadata": {},
     "output_type": "execute_result"
    }
   ],
   "source": [
    "velocidade_media"
   ]
  },
  {
   "cell_type": "code",
   "execution_count": 12,
   "metadata": {},
   "outputs": [],
   "source": [
    "df.insert(2,'velocidade',velocidade_media, True)"
   ]
  },
  {
   "cell_type": "code",
   "execution_count": 21,
   "metadata": {},
   "outputs": [
    {
     "name": "stdout",
     "output_type": "stream",
     "text": [
      "['estabilidade', 'tempo', 'velocidade', 'roll_max', 'roll_min', 'roll_oscilation', 'pitch_max', 'pitch_min', 'pitch_oscilation']\n"
     ]
    }
   ],
   "source": [
    "print(df.columns.tolist())                                         "
   ]
  },
  {
   "cell_type": "code",
   "execution_count": 14,
   "metadata": {},
   "outputs": [
    {
     "data": {
      "text/html": [
       "<div>\n",
       "<style scoped>\n",
       "    .dataframe tbody tr th:only-of-type {\n",
       "        vertical-align: middle;\n",
       "    }\n",
       "\n",
       "    .dataframe tbody tr th {\n",
       "        vertical-align: top;\n",
       "    }\n",
       "\n",
       "    .dataframe thead th {\n",
       "        text-align: right;\n",
       "    }\n",
       "</style>\n",
       "<table border=\"1\" class=\"dataframe\">\n",
       "  <thead>\n",
       "    <tr style=\"text-align: right;\">\n",
       "      <th></th>\n",
       "      <th>estabilidade</th>\n",
       "      <th>tempo</th>\n",
       "      <th>velocidade</th>\n",
       "      <th>roll_max</th>\n",
       "      <th>roll_min</th>\n",
       "      <th>roll_oscilation</th>\n",
       "      <th>pitch_max</th>\n",
       "      <th>pitch_min</th>\n",
       "      <th>pitch_oscilation</th>\n",
       "    </tr>\n",
       "  </thead>\n",
       "  <tbody>\n",
       "    <tr>\n",
       "      <th>0</th>\n",
       "      <td>False</td>\n",
       "      <td>56.887357</td>\n",
       "      <td>0.026368</td>\n",
       "      <td>11.946827</td>\n",
       "      <td>-6.633906</td>\n",
       "      <td>18.580734</td>\n",
       "      <td>4.822638</td>\n",
       "      <td>-10.601615</td>\n",
       "      <td>15.424254</td>\n",
       "    </tr>\n",
       "    <tr>\n",
       "      <th>1</th>\n",
       "      <td>False</td>\n",
       "      <td>50.730293</td>\n",
       "      <td>0.029568</td>\n",
       "      <td>7.763575</td>\n",
       "      <td>-6.293675</td>\n",
       "      <td>14.057250</td>\n",
       "      <td>6.983267</td>\n",
       "      <td>-9.520527</td>\n",
       "      <td>16.503794</td>\n",
       "    </tr>\n",
       "    <tr>\n",
       "      <th>2</th>\n",
       "      <td>False</td>\n",
       "      <td>48.946502</td>\n",
       "      <td>0.030646</td>\n",
       "      <td>8.256458</td>\n",
       "      <td>-6.190676</td>\n",
       "      <td>14.447134</td>\n",
       "      <td>6.516749</td>\n",
       "      <td>-9.378001</td>\n",
       "      <td>15.894751</td>\n",
       "    </tr>\n",
       "    <tr>\n",
       "      <th>3</th>\n",
       "      <td>False</td>\n",
       "      <td>49.250235</td>\n",
       "      <td>0.030457</td>\n",
       "      <td>7.795580</td>\n",
       "      <td>-5.346133</td>\n",
       "      <td>13.141712</td>\n",
       "      <td>8.645513</td>\n",
       "      <td>-8.463806</td>\n",
       "      <td>17.109319</td>\n",
       "    </tr>\n",
       "    <tr>\n",
       "      <th>4</th>\n",
       "      <td>False</td>\n",
       "      <td>47.943118</td>\n",
       "      <td>0.031287</td>\n",
       "      <td>7.479761</td>\n",
       "      <td>-5.469841</td>\n",
       "      <td>12.949602</td>\n",
       "      <td>4.999056</td>\n",
       "      <td>-7.998567</td>\n",
       "      <td>12.997623</td>\n",
       "    </tr>\n",
       "  </tbody>\n",
       "</table>\n",
       "</div>"
      ],
      "text/plain": [
       "   estabilidade      tempo  velocidade   roll_max  roll_min  roll_oscilation  \\\n",
       "0         False  56.887357    0.026368  11.946827 -6.633906        18.580734   \n",
       "1         False  50.730293    0.029568   7.763575 -6.293675        14.057250   \n",
       "2         False  48.946502    0.030646   8.256458 -6.190676        14.447134   \n",
       "3         False  49.250235    0.030457   7.795580 -5.346133        13.141712   \n",
       "4         False  47.943118    0.031287   7.479761 -5.469841        12.949602   \n",
       "\n",
       "   pitch_max  pitch_min  pitch_oscilation  \n",
       "0   4.822638 -10.601615         15.424254  \n",
       "1   6.983267  -9.520527         16.503794  \n",
       "2   6.516749  -9.378001         15.894751  \n",
       "3   8.645513  -8.463806         17.109319  \n",
       "4   4.999056  -7.998567         12.997623  "
      ]
     },
     "execution_count": 14,
     "metadata": {},
     "output_type": "execute_result"
    }
   ],
   "source": [
    "df.head()"
   ]
  },
  {
   "cell_type": "code",
   "execution_count": 15,
   "metadata": {},
   "outputs": [
    {
     "data": {
      "text/plain": [
       "estabilidade         0.000000\n",
       "tempo               50.588380\n",
       "velocidade           0.029773\n",
       "roll_max             7.877025\n",
       "roll_min            -6.020903\n",
       "roll_oscilation     13.897928\n",
       "pitch_max            6.264234\n",
       "pitch_min           -8.925522\n",
       "pitch_oscilation    15.189755\n",
       "dtype: float64"
      ]
     },
     "execution_count": 15,
     "metadata": {},
     "output_type": "execute_result"
    }
   ],
   "source": [
    "df.mean()"
   ]
  },
  {
   "cell_type": "markdown",
   "metadata": {},
   "source": [
    "## Distribuição normal\n",
    "### Observações\n",
    "- Distribuição normal é uma função de probabilidade usada em estatísticas que informa sobre como os valores dos dados são distribuídos. \n",
    "\n",
    "- Quanto maior a variancia,  mais baixo o topo da distribuição fica\n",
    "\n",
    "- É necessário um grande número de testes\n",
    "\n",
    "\n"
   ]
  },
  {
   "cell_type": "code",
   "execution_count": 16,
   "metadata": {},
   "outputs": [
    {
     "data": {
      "text/plain": [
       "12.140179009859647"
      ]
     },
     "execution_count": 16,
     "metadata": {},
     "output_type": "execute_result"
    }
   ],
   "source": [
    "# Variancia \n",
    "sts.variance(tempo)"
   ]
  },
  {
   "cell_type": "code",
   "execution_count": 17,
   "metadata": {},
   "outputs": [
    {
     "data": {
      "text/plain": [
       "3.894064408439203e-06"
      ]
     },
     "execution_count": 17,
     "metadata": {},
     "output_type": "execute_result"
    }
   ],
   "source": [
    "sts.variance(velocidade_media)"
   ]
  },
  {
   "cell_type": "code",
   "execution_count": 20,
   "metadata": {},
   "outputs": [
    {
     "data": {
      "text/plain": [
       "array([0.00000000e+00, 3.48427597e+00, 1.97333839e-03, 1.53536898e+00,\n",
       "       6.73053354e-01, 1.80247153e+00, 1.20454209e+00, 8.65775617e-01,\n",
       "       1.44136884e+00])"
      ]
     },
     "execution_count": 20,
     "metadata": {},
     "output_type": "execute_result"
    }
   ],
   "source": [
    "# standart deviation (grau de dispersão de um conjunto de dados)\n",
    "# O desvio padrão é uma medida que expressa o grau de dispersão de um conjunto de dados. Ou seja, o desvio padrão indica o quanto um conjunto de dados é uniforme. Quanto mais próximo de 0 for o desvio padrão, mais homogêneo são os dados.\n",
    "sta.tstd(df)\n"
   ]
  },
  {
   "cell_type": "code",
   "execution_count": 49,
   "metadata": {},
   "outputs": [
    {
     "ename": "TypeError",
     "evalue": "tstd() missing 1 required positional argument: 'a'",
     "output_type": "error",
     "traceback": [
      "\u001b[0;31m---------------------------------------------------------------------------\u001b[0m",
      "\u001b[0;31mTypeError\u001b[0m                                 Traceback (most recent call last)",
      "Cell \u001b[0;32mIn [49], line 1\u001b[0m\n\u001b[0;32m----> 1\u001b[0m sta\u001b[39m.\u001b[39;49mtstd()\n",
      "\u001b[0;31mTypeError\u001b[0m: tstd() missing 1 required positional argument: 'a'"
     ]
    }
   ],
   "source": [
    "sta.tstd()\n"
   ]
  },
  {
   "cell_type": "code",
   "execution_count": null,
   "metadata": {},
   "outputs": [
    {
     "data": {
      "text/plain": [
       "array([[<matplotlib.axes._subplots.AxesSubplot object at 0x7f99503606a0>]],\n",
       "      dtype=object)"
      ]
     },
     "execution_count": 12,
     "metadata": {},
     "output_type": "execute_result"
    },
    {
     "data": {
      "image/png": "[encoded data removed]",
      "text/plain": [
       "<Figure size 640x480 with 1 Axes>"
      ]
     },
     "metadata": {},
     "output_type": "display_data"
    }
   ],
   "source": [
    "df.hist(column='tempo')\n",
    "# plt.xlim((0.45, 0.6)2"
   ]
  },
  {
   "cell_type": "code",
   "execution_count": null,
   "metadata": {},
   "outputs": [
    {
     "data": {
      "image/png": "[encoded data removed]",
      "text/plain": [
       "<Figure size 640x480 with 1 Axes>"
      ]
     },
     "metadata": {},
     "output_type": "display_data"
    }
   ],
   "source": [
    "ax = tempo.plot.kde()"
   ]
  },
  {
   "cell_type": "code",
   "execution_count": 37,
   "metadata": {},
   "outputs": [
    {
     "data": {
      "text/plain": [
       "array([0.09607953])"
      ]
     },
     "execution_count": 37,
     "metadata": {},
     "output_type": "execute_result"
    }
   ],
   "source": [
    "density = sta.gaussian_kde(tempo)\n",
    "## probabilidade de estar na média\n",
    "density(df.iloc[:,1].mean())"
   ]
  }
 ],
 "metadata": {
  "kernelspec": {
   "display_name": "Python 3.10.6 64-bit",
   "language": "python",
   "name": "python3"
  },
  "language_info": {
   "codemirror_mode": {
    "name": "ipython",
    "version": 3
   },
   "file_extension": ".py",
   "mimetype": "text/x-python",
   "name": "python",
   "nbconvert_exporter": "python",
   "pygments_lexer": "ipython3",
   "version": "3.8.10"
  },
  "orig_nbformat": 4,
  "vscode": {
   "interpreter": {
    "hash": "916dbcbb3f70747c44a77c7bcd40155683ae19c65e1c03b4aa3499c5328201f1"
   }
  }
 },
 "nbformat": 4,
 "nbformat_minor": 2
}
