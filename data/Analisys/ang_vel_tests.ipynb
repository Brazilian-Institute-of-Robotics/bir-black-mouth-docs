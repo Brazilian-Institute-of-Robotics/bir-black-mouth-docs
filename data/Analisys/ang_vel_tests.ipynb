{
 "cells": [
  {
   "cell_type": "code",
   "execution_count": 2,
   "metadata": {},
   "outputs": [],
   "source": [
    "import pandas as pd\n",
    "import matplotlib.pyplot as plt\n",
    "import scipy.stats as stats\n",
    "import numpy as np\n",
    "\n",
    "%matplotlib inline"
   ]
  },
  {
   "cell_type": "code",
   "execution_count": 3,
   "metadata": {},
   "outputs": [],
   "source": [
    "filename_IRR_IMU = '/home/brenda/Documents/caramel_ws/src/bir-black-mouth-docs/data/Tests/ang_vel_stab_irregular_IMU/stability_velocity_irregular_imu.csv'\n",
    "filename_IRR_NOIMU = '/home/brenda/Documents/caramel_ws/src/bir-black-mouth-docs/data/Tests/ang_vel_stab_irregular_NO_IMU/stability_velocity_irregular.csv'\n",
    "df_irr_imu = pd.read_csv(filename_IRR_IMU)\n",
    "df_irr_noimu = pd.read_csv(filename_IRR_NOIMU)\n",
    "\n",
    "df_irr_imu.drop('estabilidade', axis=1, inplace=True)\n",
    "df_irr_noimu.drop('estabilidade', axis=1, inplace=True)"
   ]
  },
  {
   "cell_type": "markdown",
   "metadata": {},
   "source": [
    "## Outliers\n"
   ]
  },
  {
   "cell_type": "code",
   "execution_count": 5,
   "metadata": {},
   "outputs": [],
   "source": [
    "def make_outliers_nan(df):\n",
    "    for col in df.columns:\n",
    "        q75, q25 = np.percentile(df[col], [75, 25])\n",
    "        intr_qr = q75-q25\n",
    "        UW = q75+(1.5*intr_qr)\n",
    "        LW = q25-(1.5*intr_qr)\n",
    "\n",
    "        df.loc[df[col] < LW, col] = np.nan\n",
    "        df.loc[df[col] > UW, col] = np.nan\n",
    "    \n",
    "    return df\n"
   ]
  },
  {
   "cell_type": "code",
   "execution_count": 6,
   "metadata": {},
   "outputs": [],
   "source": [
    "df_irr_imu_ol = make_outliers_nan(df_irr_imu.take(range(10)).copy())\n",
    "df_irr_noimu_ol = make_outliers_nan(df_irr_noimu.take(range(10)).copy())"
   ]
  },
  {
   "cell_type": "code",
   "execution_count": 7,
   "metadata": {},
   "outputs": [
    {
     "data": {
      "text/plain": [
       "0    32.299319\n",
       "1    34.951399\n",
       "2    33.321568\n",
       "3    31.834610\n",
       "4    33.977046\n",
       "5    32.274966\n",
       "6    31.972529\n",
       "7    33.791023\n",
       "8    31.929101\n",
       "9    31.590379\n",
       "Name: tempo, dtype: float64"
      ]
     },
     "execution_count": 7,
     "metadata": {},
     "output_type": "execute_result"
    }
   ],
   "source": [
    "df_irr_imu_ol.iloc[:,0]"
   ]
  },
  {
   "cell_type": "code",
   "execution_count": 8,
   "metadata": {},
   "outputs": [
    {
     "data": {
      "text/html": [
       "<div>\n",
       "<style scoped>\n",
       "    .dataframe tbody tr th:only-of-type {\n",
       "        vertical-align: middle;\n",
       "    }\n",
       "\n",
       "    .dataframe tbody tr th {\n",
       "        vertical-align: top;\n",
       "    }\n",
       "\n",
       "    .dataframe thead th {\n",
       "        text-align: right;\n",
       "    }\n",
       "</style>\n",
       "<table border=\"1\" class=\"dataframe\">\n",
       "  <thead>\n",
       "    <tr style=\"text-align: right;\">\n",
       "      <th></th>\n",
       "      <th>tempo</th>\n",
       "      <th>roll_max</th>\n",
       "      <th>angl_vel</th>\n",
       "      <th>roll_min</th>\n",
       "      <th>roll_oscilation</th>\n",
       "      <th>pitch_max</th>\n",
       "      <th>pitch_min</th>\n",
       "      <th>pitch_oscilation</th>\n",
       "    </tr>\n",
       "  </thead>\n",
       "  <tbody>\n",
       "    <tr>\n",
       "      <th>count</th>\n",
       "      <td>10.000000</td>\n",
       "      <td>10.000000</td>\n",
       "      <td>10.000000</td>\n",
       "      <td>10.000000</td>\n",
       "      <td>10.000000</td>\n",
       "      <td>10.000000</td>\n",
       "      <td>8.000000</td>\n",
       "      <td>10.000000</td>\n",
       "    </tr>\n",
       "    <tr>\n",
       "      <th>mean</th>\n",
       "      <td>32.794194</td>\n",
       "      <td>12.435581</td>\n",
       "      <td>0.191797</td>\n",
       "      <td>-4.406643</td>\n",
       "      <td>16.842224</td>\n",
       "      <td>6.682198</td>\n",
       "      <td>-6.191180</td>\n",
       "      <td>12.894165</td>\n",
       "    </tr>\n",
       "    <tr>\n",
       "      <th>std</th>\n",
       "      <td>1.136879</td>\n",
       "      <td>2.587666</td>\n",
       "      <td>0.006507</td>\n",
       "      <td>1.217220</td>\n",
       "      <td>2.600448</td>\n",
       "      <td>0.938429</td>\n",
       "      <td>0.452325</td>\n",
       "      <td>1.414452</td>\n",
       "    </tr>\n",
       "    <tr>\n",
       "      <th>min</th>\n",
       "      <td>31.590379</td>\n",
       "      <td>8.657327</td>\n",
       "      <td>0.179769</td>\n",
       "      <td>-6.002727</td>\n",
       "      <td>12.376930</td>\n",
       "      <td>5.005591</td>\n",
       "      <td>-6.701403</td>\n",
       "      <td>11.037637</td>\n",
       "    </tr>\n",
       "    <tr>\n",
       "      <th>25%</th>\n",
       "      <td>31.939958</td>\n",
       "      <td>10.668597</td>\n",
       "      <td>0.186597</td>\n",
       "      <td>-5.553628</td>\n",
       "      <td>15.044277</td>\n",
       "      <td>6.216042</td>\n",
       "      <td>-6.525431</td>\n",
       "      <td>11.704734</td>\n",
       "    </tr>\n",
       "    <tr>\n",
       "      <th>50%</th>\n",
       "      <td>32.287142</td>\n",
       "      <td>12.442538</td>\n",
       "      <td>0.194603</td>\n",
       "      <td>-4.252556</td>\n",
       "      <td>16.935062</td>\n",
       "      <td>6.475353</td>\n",
       "      <td>-6.261505</td>\n",
       "      <td>12.566948</td>\n",
       "    </tr>\n",
       "    <tr>\n",
       "      <th>75%</th>\n",
       "      <td>33.673659</td>\n",
       "      <td>14.287323</td>\n",
       "      <td>0.196719</td>\n",
       "      <td>-3.349039</td>\n",
       "      <td>18.495920</td>\n",
       "      <td>7.174525</td>\n",
       "      <td>-5.981570</td>\n",
       "      <td>14.213614</td>\n",
       "    </tr>\n",
       "    <tr>\n",
       "      <th>max</th>\n",
       "      <td>34.951399</td>\n",
       "      <td>16.497088</td>\n",
       "      <td>0.198896</td>\n",
       "      <td>-2.831204</td>\n",
       "      <td>20.344436</td>\n",
       "      <td>8.326334</td>\n",
       "      <td>-5.357396</td>\n",
       "      <td>14.817298</td>\n",
       "    </tr>\n",
       "  </tbody>\n",
       "</table>\n",
       "</div>"
      ],
      "text/plain": [
       "           tempo   roll_max   angl_vel   roll_min  roll_oscilation  pitch_max  \\\n",
       "count  10.000000  10.000000  10.000000  10.000000        10.000000  10.000000   \n",
       "mean   32.794194  12.435581   0.191797  -4.406643        16.842224   6.682198   \n",
       "std     1.136879   2.587666   0.006507   1.217220         2.600448   0.938429   \n",
       "min    31.590379   8.657327   0.179769  -6.002727        12.376930   5.005591   \n",
       "25%    31.939958  10.668597   0.186597  -5.553628        15.044277   6.216042   \n",
       "50%    32.287142  12.442538   0.194603  -4.252556        16.935062   6.475353   \n",
       "75%    33.673659  14.287323   0.196719  -3.349039        18.495920   7.174525   \n",
       "max    34.951399  16.497088   0.198896  -2.831204        20.344436   8.326334   \n",
       "\n",
       "       pitch_min  pitch_oscilation  \n",
       "count   8.000000         10.000000  \n",
       "mean   -6.191180         12.894165  \n",
       "std     0.452325          1.414452  \n",
       "min    -6.701403         11.037637  \n",
       "25%    -6.525431         11.704734  \n",
       "50%    -6.261505         12.566948  \n",
       "75%    -5.981570         14.213614  \n",
       "max    -5.357396         14.817298  "
      ]
     },
     "execution_count": 8,
     "metadata": {},
     "output_type": "execute_result"
    }
   ],
   "source": [
    "df_irr_imu_ol.insert(2, 'angl_vel', 2 * np.pi / df_irr_imu_ol.iloc[:,0])\n",
    "df_irr_imu_ol.describe()"
   ]
  },
  {
   "cell_type": "code",
   "execution_count": 9,
   "metadata": {},
   "outputs": [
    {
     "data": {
      "text/html": [
       "<div>\n",
       "<style scoped>\n",
       "    .dataframe tbody tr th:only-of-type {\n",
       "        vertical-align: middle;\n",
       "    }\n",
       "\n",
       "    .dataframe tbody tr th {\n",
       "        vertical-align: top;\n",
       "    }\n",
       "\n",
       "    .dataframe thead th {\n",
       "        text-align: right;\n",
       "    }\n",
       "</style>\n",
       "<table border=\"1\" class=\"dataframe\">\n",
       "  <thead>\n",
       "    <tr style=\"text-align: right;\">\n",
       "      <th></th>\n",
       "      <th>tempo</th>\n",
       "      <th>roll_max</th>\n",
       "      <th>angl_vel</th>\n",
       "      <th>roll_min</th>\n",
       "      <th>roll_oscilation</th>\n",
       "      <th>pitch_max</th>\n",
       "      <th>pitch_min</th>\n",
       "      <th>pitch_oscilation</th>\n",
       "    </tr>\n",
       "  </thead>\n",
       "  <tbody>\n",
       "    <tr>\n",
       "      <th>count</th>\n",
       "      <td>9.000000</td>\n",
       "      <td>8.000000</td>\n",
       "      <td>9.000000</td>\n",
       "      <td>8.000000</td>\n",
       "      <td>9.000000</td>\n",
       "      <td>10.000000</td>\n",
       "      <td>10.000000</td>\n",
       "      <td>9.000000</td>\n",
       "    </tr>\n",
       "    <tr>\n",
       "      <th>mean</th>\n",
       "      <td>32.989293</td>\n",
       "      <td>12.999108</td>\n",
       "      <td>0.190607</td>\n",
       "      <td>-4.799019</td>\n",
       "      <td>16.155986</td>\n",
       "      <td>5.703433</td>\n",
       "      <td>-5.753426</td>\n",
       "      <td>11.787855</td>\n",
       "    </tr>\n",
       "    <tr>\n",
       "      <th>std</th>\n",
       "      <td>0.956961</td>\n",
       "      <td>1.475810</td>\n",
       "      <td>0.005649</td>\n",
       "      <td>0.802316</td>\n",
       "      <td>1.877092</td>\n",
       "      <td>1.054281</td>\n",
       "      <td>1.021689</td>\n",
       "      <td>1.051617</td>\n",
       "    </tr>\n",
       "    <tr>\n",
       "      <th>min</th>\n",
       "      <td>31.053127</td>\n",
       "      <td>11.536404</td>\n",
       "      <td>0.184047</td>\n",
       "      <td>-5.645312</td>\n",
       "      <td>13.530452</td>\n",
       "      <td>3.941836</td>\n",
       "      <td>-7.501915</td>\n",
       "      <td>10.084741</td>\n",
       "    </tr>\n",
       "    <tr>\n",
       "      <th>25%</th>\n",
       "      <td>32.622262</td>\n",
       "      <td>11.947628</td>\n",
       "      <td>0.185764</td>\n",
       "      <td>-5.446696</td>\n",
       "      <td>14.228405</td>\n",
       "      <td>4.795981</td>\n",
       "      <td>-6.069393</td>\n",
       "      <td>11.176038</td>\n",
       "    </tr>\n",
       "    <tr>\n",
       "      <th>50%</th>\n",
       "      <td>33.007941</td>\n",
       "      <td>12.488422</td>\n",
       "      <td>0.190354</td>\n",
       "      <td>-4.805737</td>\n",
       "      <td>16.683643</td>\n",
       "      <td>5.962256</td>\n",
       "      <td>-5.755174</td>\n",
       "      <td>11.587296</td>\n",
       "    </tr>\n",
       "    <tr>\n",
       "      <th>75%</th>\n",
       "      <td>33.823459</td>\n",
       "      <td>13.932863</td>\n",
       "      <td>0.192604</td>\n",
       "      <td>-4.410407</td>\n",
       "      <td>16.932968</td>\n",
       "      <td>6.363823</td>\n",
       "      <td>-4.944493</td>\n",
       "      <td>12.180343</td>\n",
       "    </tr>\n",
       "    <tr>\n",
       "      <th>max</th>\n",
       "      <td>34.138962</td>\n",
       "      <td>15.337859</td>\n",
       "      <td>0.202337</td>\n",
       "      <td>-3.302950</td>\n",
       "      <td>19.310708</td>\n",
       "      <td>6.951171</td>\n",
       "      <td>-4.485889</td>\n",
       "      <td>13.535689</td>\n",
       "    </tr>\n",
       "  </tbody>\n",
       "</table>\n",
       "</div>"
      ],
      "text/plain": [
       "           tempo   roll_max  angl_vel  roll_min  roll_oscilation  pitch_max  \\\n",
       "count   9.000000   8.000000  9.000000  8.000000         9.000000  10.000000   \n",
       "mean   32.989293  12.999108  0.190607 -4.799019        16.155986   5.703433   \n",
       "std     0.956961   1.475810  0.005649  0.802316         1.877092   1.054281   \n",
       "min    31.053127  11.536404  0.184047 -5.645312        13.530452   3.941836   \n",
       "25%    32.622262  11.947628  0.185764 -5.446696        14.228405   4.795981   \n",
       "50%    33.007941  12.488422  0.190354 -4.805737        16.683643   5.962256   \n",
       "75%    33.823459  13.932863  0.192604 -4.410407        16.932968   6.363823   \n",
       "max    34.138962  15.337859  0.202337 -3.302950        19.310708   6.951171   \n",
       "\n",
       "       pitch_min  pitch_oscilation  \n",
       "count  10.000000          9.000000  \n",
       "mean   -5.753426         11.787855  \n",
       "std     1.021689          1.051617  \n",
       "min    -7.501915         10.084741  \n",
       "25%    -6.069393         11.176038  \n",
       "50%    -5.755174         11.587296  \n",
       "75%    -4.944493         12.180343  \n",
       "max    -4.485889         13.535689  "
      ]
     },
     "execution_count": 9,
     "metadata": {},
     "output_type": "execute_result"
    }
   ],
   "source": [
    "df_irr_noimu_ol.insert(2, 'angl_vel', 2 * np.pi / df_irr_noimu_ol.iloc[:,0])\n",
    "df_irr_noimu_ol.describe()"
   ]
  },
  {
   "cell_type": "code",
   "execution_count": null,
   "metadata": {},
   "outputs": [],
   "source": []
  },
  {
   "cell_type": "markdown",
   "metadata": {},
   "source": [
    "## Test Normal"
   ]
  },
  {
   "cell_type": "code",
   "execution_count": 10,
   "metadata": {},
   "outputs": [
    {
     "name": "stdout",
     "output_type": "stream",
     "text": [
      "TEMPO\n",
      "Irregular:\n",
      "ShapiroResult(statistic=0.8796310424804688, pvalue=0.12922638654708862)\n",
      "ShapiroResult(statistic=0.9346476197242737, pvalue=0.5268164873123169) \n",
      "\n",
      "ROLL_MAX\n",
      "Irregular:\n",
      "ShapiroResult(statistic=0.9612258076667786, pvalue=0.7997555136680603)\n",
      "ShapiroResult(statistic=0.8794512152671814, pvalue=0.18606621026992798) \n",
      "\n",
      "ANGL_VEL\n",
      "Irregular:\n",
      "ShapiroResult(statistic=0.8860667943954468, pvalue=0.1530667394399643)\n",
      "ShapiroResult(statistic=0.9227184653282166, pvalue=0.41522207856178284) \n",
      "\n",
      "ROLL_MIN\n",
      "Irregular:\n",
      "ShapiroResult(statistic=0.8703693151473999, pvalue=0.10096119344234467)\n",
      "ShapiroResult(statistic=0.8979926109313965, pvalue=0.2771419584751129) \n",
      "\n",
      "ROLL_OSCILATION\n",
      "Irregular:\n",
      "ShapiroResult(statistic=0.961280345916748, pvalue=0.8003683090209961)\n",
      "ShapiroResult(statistic=0.8901849389076233, pvalue=0.2004033625125885) \n",
      "\n",
      "PITCH_MAX\n",
      "Irregular:\n",
      "ShapiroResult(statistic=0.9665907621383667, pvalue=0.8575624823570251)\n",
      "ShapiroResult(statistic=0.9110567569732666, pvalue=0.28832870721817017) \n",
      "\n",
      "PITCH_MIN\n",
      "Irregular:\n",
      "ShapiroResult(statistic=0.9043512344360352, pvalue=0.31599313020706177)\n",
      "ShapiroResult(statistic=0.9281970262527466, pvalue=0.43039432168006897) \n",
      "\n",
      "PITCH_OSCILATION\n",
      "Irregular:\n",
      "ShapiroResult(statistic=0.9049845337867737, pvalue=0.24828486144542694)\n",
      "ShapiroResult(statistic=0.9731538891792297, pvalue=0.9202749133110046) \n",
      "\n"
     ]
    }
   ],
   "source": [
    "for col in df_irr_imu_ol.columns:\n",
    "    print(col.upper())\n",
    "    print('Irregular:')\n",
    "    a = stats.shapiro(df_irr_imu_ol[col].dropna())\n",
    "    b = stats.shapiro(df_irr_noimu_ol[col].dropna())\n",
    "    print(a)\n",
    "    print(b,'\\n')"
   ]
  },
  {
   "cell_type": "markdown",
   "metadata": {},
   "source": [
    "## ANOVA"
   ]
  },
  {
   "cell_type": "code",
   "execution_count": 11,
   "metadata": {},
   "outputs": [
    {
     "name": "stdout",
     "output_type": "stream",
     "text": [
      "F_onewayResult(statistic=0.42585247059231673, pvalue=0.5227583837198252)\n",
      "F_onewayResult(statistic=3.6702366227863474, pvalue=0.07236648811108366)\n"
     ]
    }
   ],
   "source": [
    "# IRREGULAR TERRAIN\n",
    "print(stats.f_oneway(df_irr_imu_ol[\"roll_oscilation\"].dropna(), df_irr_noimu_ol[\"roll_oscilation\"].dropna()))\n",
    "print(stats.f_oneway(df_irr_imu_ol[\"pitch_oscilation\"].dropna(), df_irr_noimu_ol[\"pitch_oscilation\"].dropna()))"
   ]
  },
  {
   "cell_type": "code",
   "execution_count": 12,
   "metadata": {},
   "outputs": [
    {
     "data": {
      "text/plain": [
       "count    10.000000\n",
       "mean      0.191797\n",
       "std       0.006507\n",
       "min       0.179769\n",
       "25%       0.186597\n",
       "50%       0.194603\n",
       "75%       0.196719\n",
       "max       0.198896\n",
       "Name: tempo, dtype: float64"
      ]
     },
     "execution_count": 12,
     "metadata": {},
     "output_type": "execute_result"
    }
   ],
   "source": [
    "(2 * np.pi / df_irr_imu_ol[\"tempo\"]).describe()"
   ]
  },
  {
   "cell_type": "code",
   "execution_count": 13,
   "metadata": {},
   "outputs": [
    {
     "data": {
      "text/plain": [
       "count    9.000000\n",
       "mean     0.190607\n",
       "std      0.005649\n",
       "min      0.184047\n",
       "25%      0.185764\n",
       "50%      0.190354\n",
       "75%      0.192604\n",
       "max      0.202337\n",
       "Name: tempo, dtype: float64"
      ]
     },
     "execution_count": 13,
     "metadata": {},
     "output_type": "execute_result"
    }
   ],
   "source": [
    "(2 * np.pi / df_irr_noimu_ol[\"tempo\"]).describe()\n"
   ]
  },
  {
   "cell_type": "code",
   "execution_count": 14,
   "metadata": {},
   "outputs": [
    {
     "data": {
      "text/plain": [
       "F_onewayResult(statistic=0.17933243961847506, pvalue=0.6772568284609315)"
      ]
     },
     "execution_count": 14,
     "metadata": {},
     "output_type": "execute_result"
    }
   ],
   "source": [
    "stats.f_oneway((2 * np.pi / df_irr_imu_ol[\"tempo\"]).dropna(),\n",
    "               (2 * np.pi / df_irr_noimu_ol[\"tempo\"]).dropna())"
   ]
  },
  {
   "cell_type": "markdown",
   "metadata": {},
   "source": [
    "## Plots"
   ]
  },
  {
   "cell_type": "code",
   "execution_count": 15,
   "metadata": {},
   "outputs": [],
   "source": [
    "def resize_cols(df, N):\n",
    "    dict = {}\n",
    "    for col in df.columns:\n",
    "        dict[col] = np.nan\n",
    "    for _ in range(N-df.shape[0]):\n",
    "        df_tmp = pd.DataFrame(dict, index=[df.shape[0]])\n",
    "        df = df.append(df_tmp)\n",
    "    return df"
   ]
  },
  {
   "cell_type": "code",
   "execution_count": 16,
   "metadata": {},
   "outputs": [
    {
     "data": {
      "text/plain": [
       "Text(0.5, 0, 'Pitch')"
      ]
     },
     "execution_count": 16,
     "metadata": {},
     "output_type": "execute_result"
    },
    {
     "data": {
      "image/png": "[encoded data removed]",
      "text/plain": [
       "<Figure size 800x600 with 2 Axes>"
      ]
     },
     "metadata": {},
     "output_type": "display_data"
    }
   ],
   "source": [
    "df_irregular_roll = pd.DataFrame()\n",
    "df_irregular_roll['ON'] = df_irr_imu['roll_oscilation'].values\n",
    "df_irregular_roll['OFF'] = df_irr_noimu['roll_oscilation'].values\n",
    "\n",
    "df_irregular_pitch = pd.DataFrame()\n",
    "df_irregular_pitch['ON'] = df_irr_imu['pitch_oscilation'].values\n",
    "df_irregular_pitch['OFF'] = df_irr_noimu['pitch_oscilation'].values\n",
    "\n",
    "fig, ax = plt.subplots(1, 2, sharey=True)\n",
    "fig.set_size_inches(8,6)\n",
    "fig.subplots_adjust(wspace=0.1)\n",
    "plt.style.use(\"seaborn\")\n",
    "\n",
    "boxprops = dict(linestyle='-',\n",
    "                linewidth=3)\n",
    "medianprops = dict(linestyle='-',\n",
    "                   linewidth=3)\n",
    "whiskerprops = dict(linestyle='-',\n",
    "                    linewidth=3)\n",
    "capprops = dict(linestyle='-',\n",
    "                linewidth=3)\n",
    "\n",
    "df_irregular_roll.boxplot(boxprops=boxprops,\n",
    "                          medianprops=medianprops,\n",
    "                          whiskerprops=whiskerprops,\n",
    "                          capprops=capprops,\n",
    "                          showfliers=False,\n",
    "                          fontsize=20,\n",
    "                          ax=ax[0])\n",
    "\n",
    "df_irregular_pitch.boxplot(boxprops=boxprops,\n",
    "                           medianprops=medianprops,\n",
    "                           whiskerprops=whiskerprops,\n",
    "                           capprops=capprops,\n",
    "                           showfliers=False,\n",
    "                           fontsize=20,\n",
    "                           ax=ax[1])\n",
    "\n",
    "ax[0].set_ylabel('Maximun oscillation (degrees)', fontsize=20, fontweight='bold', labelpad=15)\n",
    "ax[0].set_xlabel('Roll', fontsize=20, fontweight='bold')\n",
    "ax[1].set_xlabel('Pitch', fontsize=20, fontweight='bold')"
   ]
  },
  {
   "cell_type": "code",
   "execution_count": null,
   "metadata": {},
   "outputs": [],
   "source": []
  }
 ],
 "metadata": {
  "kernelspec": {
   "display_name": "Python 3.10.6 64-bit",
   "language": "python",
   "name": "python3"
  },
  "language_info": {
   "codemirror_mode": {
    "name": "ipython",
    "version": 3
   },
   "file_extension": ".py",
   "mimetype": "text/x-python",
   "name": "python",
   "nbconvert_exporter": "python",
   "pygments_lexer": "ipython3",
   "version": "3.10.12"
  },
  "orig_nbformat": 4,
  "vscode": {
   "interpreter": {
    "hash": "916dbcbb3f70747c44a77c7bcd40155683ae19c65e1c03b4aa3499c5328201f1"
   }
  }
 },
 "nbformat": 4,
 "nbformat_minor": 2
}
